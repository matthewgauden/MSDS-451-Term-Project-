{
  "cells": [
    {
      "cell_type": "markdown",
      "metadata": {
        "id": "vEZ0s6KVYL_0"
      },
      "source": [
        "# Buy and Hold Strategy Experiment"
      ]
    },
    {
      "cell_type": "markdown",
      "metadata": {
        "id": "kA-fa_JkAnqB"
      },
      "source": [
        "## Import Libraries"
      ]
    },
    {
      "cell_type": "code",
      "execution_count": 137,
      "metadata": {
        "id": "im3J58Iyqr9S"
      },
      "outputs": [],
      "source": [
        "import yfinance as yf\n",
        "import pandas as pd\n",
        "from datetime import datetime, timedelta\n",
        "import numpy as np\n",
        "from scipy.optimize import minimize\n",
        "import warnings\n",
        "# Suppress warnings for cleaner output\n",
        "warnings.filterwarnings('ignore')"
      ]
    },
    {
      "cell_type": "markdown",
      "metadata": {
        "id": "y_uje9BOAr4a"
      },
      "source": [
        "## Grab Historical Data"
      ]
    },
    {
      "cell_type": "code",
      "execution_count": 138,
      "metadata": {
        "id": "V2zWoyXA-0FE"
      },
      "outputs": [],
      "source": [
        "# Specify the time period\n",
        "start_date = '2005-01-01'\n",
        "end_date = '2025-01-01'\n",
        "\n",
        "startfile = \"checkpoint_b\""
      ]
    },
    {
      "cell_type": "code",
      "execution_count": 139,
      "metadata": {
        "id": "syHKIvbz_Et8"
      },
      "outputs": [],
      "source": [
        "# Use yfinance to retrieve data\n",
        "symbols = ['SPY', 'TLT', 'VTI']\n",
        "\n",
        "historical_data = {}\n",
        "\n",
        "for symbol in symbols:\n",
        "    ticker = yf.Ticker(symbol)\n",
        "    data = ticker.history(start='2005-01-01', end='2025-01-01')\n",
        "    historical_data[symbol] = data\n",
        "    # Save data to CSV\n",
        "    data.to_csv(f\"{startfile}_{symbol.lower()}.csv\")"
      ]
    },
    {
      "cell_type": "code",
      "execution_count": 140,
      "metadata": {
        "colab": {
          "base_uri": "https://localhost:8080/"
        },
        "id": "8piNqLQt_iPM",
        "outputId": "a911be8f-649a-4601-84c1-7a50b787c3c2"
      },
      "outputs": [
        {
          "name": "stdout",
          "output_type": "stream",
          "text": [
            "                                 SPY                                   \\\n",
            "                                Open       High        Low      Close   \n",
            "Date                                                                    \n",
            "2005-01-03 00:00:00-05:00  82.704370  82.840445  81.574978  81.847122   \n",
            "2005-01-04 00:00:00-05:00  81.955983  82.010413  80.581661  80.847000   \n",
            "2005-01-05 00:00:00-05:00  80.785744  81.132728  80.282280  80.289085   \n",
            "2005-01-06 00:00:00-05:00  80.581667  81.064721  80.459202  80.697327   \n",
            "2005-01-07 00:00:00-05:00  80.942270  81.119164  80.370766  80.581680   \n",
            "\n",
            "                                                                          \\\n",
            "                             Volume Dividends Stock Splits Capital Gains   \n",
            "Date                                                                       \n",
            "2005-01-03 00:00:00-05:00  55748000       0.0          0.0           0.0   \n",
            "2005-01-04 00:00:00-05:00  69167600       0.0          0.0           0.0   \n",
            "2005-01-05 00:00:00-05:00  65667300       0.0          0.0           0.0   \n",
            "2005-01-06 00:00:00-05:00  47814700       0.0          0.0           0.0   \n",
            "2005-01-07 00:00:00-05:00  55847700       0.0          0.0           0.0   \n",
            "\n",
            "                                 TLT             ...               \\\n",
            "                                Open       High  ... Stock Splits   \n",
            "Date                                             ...                \n",
            "2005-01-03 00:00:00-05:00  45.272311  45.611158  ...          0.0   \n",
            "2005-01-04 00:00:00-05:00  45.549547  45.564949  ...          0.0   \n",
            "2005-01-05 00:00:00-05:00  45.174765  45.462277  ...          0.0   \n",
            "2005-01-06 00:00:00-05:00  45.328759  45.457111  ...          0.0   \n",
            "2005-01-07 00:00:00-05:00  45.570096  45.626571  ...          0.0   \n",
            "\n",
            "                                               VTI                        \\\n",
            "                          Capital Gains       Open       High        Low   \n",
            "Date                                                                       \n",
            "2005-01-03 00:00:00-05:00           0.0  40.755966  40.773117  40.104144   \n",
            "2005-01-04 00:00:00-05:00           0.0  40.309989  40.309989  39.548387   \n",
            "2005-01-05 00:00:00-05:00           0.0  39.709623  39.778235  39.397434   \n",
            "2005-01-06 00:00:00-05:00           0.0  39.486639  39.723354  39.404305   \n",
            "2005-01-07 00:00:00-05:00           0.0  39.658160  39.675315  39.352834   \n",
            "\n",
            "                                                                     \\\n",
            "                               Close  Volume Dividends Stock Splits   \n",
            "Date                                                                  \n",
            "2005-01-03 00:00:00-05:00  40.207062  525000       0.0          0.0   \n",
            "2005-01-04 00:00:00-05:00  39.671890  244200       0.0          0.0   \n",
            "2005-01-05 00:00:00-05:00  39.397434  380800       0.0          0.0   \n",
            "2005-01-06 00:00:00-05:00  39.586128  201800       0.0          0.0   \n",
            "2005-01-07 00:00:00-05:00  39.459183  271200       0.0          0.0   \n",
            "\n",
            "                                         \n",
            "                          Capital Gains  \n",
            "Date                                     \n",
            "2005-01-03 00:00:00-05:00           0.0  \n",
            "2005-01-04 00:00:00-05:00           0.0  \n",
            "2005-01-05 00:00:00-05:00           0.0  \n",
            "2005-01-06 00:00:00-05:00           0.0  \n",
            "2005-01-07 00:00:00-05:00           0.0  \n",
            "\n",
            "[5 rows x 24 columns]\n"
          ]
        }
      ],
      "source": [
        "# Combine the data into one df\n",
        "combined_data = pd.concat(historical_data.values(), keys=historical_data.keys(), axis=1)\n",
        "\n",
        "print(combined_data.head())"
      ]
    },
    {
      "cell_type": "markdown",
      "metadata": {
        "id": "0dzG68a-AwoS"
      },
      "source": [
        "## Calculate Log Daily Returns for Analysis"
      ]
    },
    {
      "cell_type": "code",
      "execution_count": 141,
      "metadata": {
        "colab": {
          "base_uri": "https://localhost:8080/"
        },
        "id": "R4LHZsFdBs8c",
        "outputId": "2dffe8cf-55b4-4adf-cbd3-12efc3423262"
      },
      "outputs": [
        {
          "name": "stdout",
          "output_type": "stream",
          "text": [
            "                                SPY       TLT       VTI\n",
            "Date                                                   \n",
            "2005-01-03 00:00:00-05:00       NaN       NaN       NaN\n",
            "2005-01-04 00:00:00-05:00 -0.012295 -0.010535 -0.013400\n",
            "2005-01-05 00:00:00-05:00 -0.006925  0.005338 -0.006942\n",
            "2005-01-06 00:00:00-05:00  0.005072  0.000679  0.004778\n",
            "2005-01-07 00:00:00-05:00 -0.001434  0.002262 -0.003212\n"
          ]
        }
      ],
      "source": [
        "# Calculate log daily returns\n",
        "close_df = combined_data.xs('Close', level=1, axis=1)\n",
        "\n",
        "log_daily_returns = np.log(close_df / close_df.shift(1))\n",
        "\n",
        "print(log_daily_returns.head())"
      ]
    },
    {
      "cell_type": "code",
      "execution_count": 142,
      "metadata": {
        "colab": {
          "base_uri": "https://localhost:8080/"
        },
        "id": "VexTSh_6BYB_",
        "outputId": "ad72df7b-44c2-4523-d677-000bb71c2203"
      },
      "outputs": [
        {
          "name": "stdout",
          "output_type": "stream",
          "text": [
            "                                SPY       TLT       VTI\n",
            "Date                                                   \n",
            "2005-01-04 00:00:00-05:00 -0.012295 -0.010535 -0.013400\n",
            "2005-01-05 00:00:00-05:00 -0.006925  0.005338 -0.006942\n",
            "2005-01-06 00:00:00-05:00  0.005072  0.000679  0.004778\n",
            "2005-01-07 00:00:00-05:00 -0.001434  0.002262 -0.003212\n",
            "2005-01-10 00:00:00-05:00  0.004717  0.001579  0.003992\n"
          ]
        }
      ],
      "source": [
        "# Drop missing values\n",
        "log_daily_returns = log_daily_returns.dropna()\n",
        "print(log_daily_returns.head())"
      ]
    },
    {
      "cell_type": "markdown",
      "metadata": {
        "id": "MjewVPUZCCim"
      },
      "source": [
        "## Finding Initial Conditions for Chosen Assets"
      ]
    },
    {
      "cell_type": "code",
      "execution_count": 143,
      "metadata": {
        "colab": {
          "base_uri": "https://localhost:8080/"
        },
        "id": "CbkpjCmDB4kk",
        "outputId": "8ab60686-6e68-45d5-fd54-0f243c19854d"
      },
      "outputs": [
        {
          "name": "stdout",
          "output_type": "stream",
          "text": [
            "          SPY       TLT       VTI\n",
            "SPY  0.036317 -0.009123  0.036477\n",
            "TLT -0.009123  0.021891 -0.009166\n",
            "VTI  0.036477 -0.009166  0.037152\n"
          ]
        }
      ],
      "source": [
        "# Covariance Matrix\n",
        "cov_matrix = log_daily_returns.cov()*252\n",
        "\n",
        "print(cov_matrix)"
      ]
    },
    {
      "cell_type": "markdown",
      "metadata": {
        "id": "wUhusi-YIwuR"
      },
      "source": [
        "## Helper Functions"
      ]
    },
    {
      "cell_type": "code",
      "execution_count": 144,
      "metadata": {
        "id": "Pg2b-RRqDM3N"
      },
      "outputs": [],
      "source": [
        "# Volatility function\n",
        "def std_deviation(weights, cov_matrix):\n",
        "  variance = weights.T @ cov_matrix @ weights\n",
        "  return np.sqrt(variance)"
      ]
    },
    {
      "cell_type": "code",
      "execution_count": 145,
      "metadata": {
        "id": "UYNz61zODlym"
      },
      "outputs": [],
      "source": [
        "# Expected returns function\n",
        "def expected_return(weights, log_daily_returns):\n",
        "  return np.sum(log_daily_returns.mean() * weights)"
      ]
    },
    {
      "cell_type": "code",
      "execution_count": 146,
      "metadata": {
        "id": "ObHibMHfDyWD"
      },
      "outputs": [],
      "source": [
        "# Sharpe Ratio function\n",
        "def sharpe_ratio(weights, log_daily_returns, cov_matrix, risk_free_rate):\n",
        "  return (expected_return(weights, log_daily_returns) - risk_free_rate) / std_deviation(weights, cov_matrix)"
      ]
    },
    {
      "cell_type": "code",
      "execution_count": 147,
      "metadata": {
        "id": "0MqVt-uiE0bv"
      },
      "outputs": [],
      "source": [
        "# Use risk-free rate from optimization example\n",
        "risk_free_rate = 1.01"
      ]
    },
    {
      "cell_type": "markdown",
      "metadata": {
        "id": "vgEckDNEE4a-"
      },
      "source": [
        "## Optimization First Using Quadratic Programming"
      ]
    },
    {
      "cell_type": "code",
      "execution_count": 148,
      "metadata": {
        "id": "EfR79s98E6-T"
      },
      "outputs": [],
      "source": [
        "# Negative Sharpe Ratio function\n",
        "def neg_sharpe_ratio(weights, log_daily_returns, cov_matrix, risk_free_rate):\n",
        "  return -sharpe_ratio(weights, log_daily_returns, cov_matrix, risk_free_rate)"
      ]
    },
    {
      "cell_type": "code",
      "execution_count": 149,
      "metadata": {
        "colab": {
          "base_uri": "https://localhost:8080/"
        },
        "id": "7Iwt0raIFEZw",
        "outputId": "9f645e82-c5a7-4d59-d7b3-5f010f28bc0f"
      },
      "outputs": [
        {
          "name": "stdout",
          "output_type": "stream",
          "text": [
            "[0.3333333333333333, 0.3333333333333333, 0.3333333333333333]\n"
          ]
        }
      ],
      "source": [
        "constraints = {'type': 'eq', 'fun': lambda weights: np.sum(weights) - 1} # All weights must add to 1\n",
        "bounds = [(0, 0.5) for _ in range(len(symbols))] # No short selling and no more than 50% allocation for each asset\n",
        "initial_weights = [1/len(symbols)] * len(symbols) # Start with balanced portfolio\n",
        "print(initial_weights)"
      ]
    },
    {
      "cell_type": "code",
      "execution_count": 150,
      "metadata": {
        "id": "0YVRKbMxGvJk"
      },
      "outputs": [],
      "source": [
        "optimized_results = minimize(neg_sharpe_ratio, initial_weights, args=(log_daily_returns, cov_matrix, risk_free_rate),\n",
        "                             method='SLSQP', bounds=bounds, constraints=constraints)\n",
        "\n",
        "optimal_weights = optimized_results.x"
      ]
    },
    {
      "cell_type": "code",
      "execution_count": 151,
      "metadata": {
        "colab": {
          "base_uri": "https://localhost:8080/"
        },
        "id": "06liVQ7nHWT3",
        "outputId": "3b16d195-2c6a-467e-cbf0-26d943dc8b98"
      },
      "outputs": [
        {
          "name": "stdout",
          "output_type": "stream",
          "text": [
            "Optimal ETF Portfolio Weights:\n",
            "SPY: 0.5000\n",
            "TLT: 0.0000\n",
            "VTI: 0.5000\n",
            "\n",
            "Expected Return: 0.0004\n",
            "Volatility (Standard Deviation): 0.1913\n",
            "Sharpe Ratio: -5.2769\n"
          ]
        }
      ],
      "source": [
        "# Results from QP\n",
        "print('Optimal ETF Portfolio Weights:')\n",
        "for symbol, weight in zip(symbols, optimal_weights):\n",
        "  print(f'{symbol}: {weight:.4f}')\n",
        "\n",
        "print()\n",
        "\n",
        "optimal_return = expected_return(optimal_weights, log_daily_returns)\n",
        "optimal_volatility = std_deviation(optimal_weights, cov_matrix)\n",
        "optimal_sharpe = sharpe_ratio(optimal_weights, log_daily_returns, cov_matrix, risk_free_rate)\n",
        "\n",
        "print(f'Expected Return: {optimal_return:.4f}')\n",
        "print(f'Volatility (Standard Deviation): {optimal_volatility:.4f}')\n",
        "print(f'Sharpe Ratio: {optimal_sharpe:.4f}')"
      ]
    },
    {
      "cell_type": "code",
      "execution_count": 152,
      "metadata": {
        "colab": {
          "base_uri": "https://localhost:8080/"
        },
        "id": "b0543055",
        "outputId": "9f789043-a77d-48f2-c153-20482a3ac44a"
      },
      "outputs": [
        {
          "name": "stdout",
          "output_type": "stream",
          "text": [
            "Optimal Portfolio - Annualized Expected Log Return: 0.0983\n",
            "Optimal Portfolio - Annualized Expected Simple Return: 0.1033\n"
          ]
        }
      ],
      "source": [
        "# Calculate the annualized expected log return\n",
        "annualized_expected_log_return = optimal_return * 252\n",
        "\n",
        "# Calculate the annualized expected simple return\n",
        "annualized_expected_simple_return = np.exp(annualized_expected_log_return) - 1\n",
        "\n",
        "print(f\"Optimal Portfolio - Annualized Expected Log Return: {annualized_expected_log_return:.4f}\")\n",
        "print(f\"Optimal Portfolio - Annualized Expected Simple Return: {annualized_expected_simple_return:.4f}\")"
      ]
    },
    {
      "cell_type": "markdown",
      "metadata": {
        "id": "tPEdo21oIcVk"
      },
      "source": [
        "## Monte Carlo Simulation to Add Randomness"
      ]
    },
    {
      "cell_type": "code",
      "execution_count": 153,
      "metadata": {
        "colab": {
          "base_uri": "https://localhost:8080/"
        },
        "id": "IFDivdhPIbXj",
        "outputId": "5d93af72-0410-43be-a6b7-42800ba5df31"
      },
      "outputs": [
        {
          "name": "stdout",
          "output_type": "stream",
          "text": [
            "Generated Weights (first 5 rows):\n",
            "[[0.21319848 0.33706106 0.44974046]\n",
            " [0.042247   0.50424072 0.45351227]\n",
            " [0.36805262 0.37907494 0.25287244]\n",
            " [0.05398829 0.4519045  0.4941072 ]\n",
            " [0.51821359 0.072156   0.40963042]]\n"
          ]
        }
      ],
      "source": [
        "# Generate random sets of weights\n",
        "num_portfolios = 700\n",
        "num_assets = len(symbols)\n",
        "shortsOK = False  # Set to True for short selling allowed, False otherwise\n",
        "\n",
        "if shortsOK == True:\n",
        "    weights = np.random.uniform(-1, 1, size=(num_portfolios, num_assets))\n",
        "else:\n",
        "    weights = np.random.uniform(0, 1, size=(num_portfolios, num_assets))\n",
        "    weights = weights / np.sum(weights, axis=1)[:, np.newaxis] # Normalize weights to sum to 1\n",
        "\n",
        "print(\"Generated Weights (first 5 rows):\")\n",
        "print(weights[:5])"
      ]
    },
    {
      "cell_type": "code",
      "execution_count": 154,
      "metadata": {
        "colab": {
          "base_uri": "https://localhost:8080/",
          "height": 209
        },
        "id": "yJWkiHvLMe6m",
        "outputId": "35cbc89d-4a72-49a7-e6f8-6484cfcd9f91"
      },
      "outputs": [
        {
          "name": "stdout",
          "output_type": "stream",
          "text": [
            "MC Portfolio Results:\n"
          ]
        },
        {
          "data": {
            "application/vnd.google.colaboratory.intrinsic+json": {
              "summary": "{\n  \"name\": \"mc_portfolio_results_df\",\n  \"rows\": 700,\n  \"fields\": [\n    {\n      \"column\": \"Return\",\n      \"properties\": {\n        \"dtype\": \"number\",\n        \"std\": 0.012245267188937634,\n        \"min\": 0.03297535227712544,\n        \"max\": 0.09802684447473428,\n        \"num_unique_values\": 700,\n        \"samples\": [\n          0.07659156399019579,\n          0.09457160583514072,\n          0.09708225509524505\n        ],\n        \"semantic_type\": \"\",\n        \"description\": \"\"\n      }\n    },\n    {\n      \"column\": \"Volatility\",\n      \"properties\": {\n        \"dtype\": \"number\",\n        \"std\": 0.4310603645657966,\n        \"min\": 1.5320291868884404,\n        \"max\": 3.0238060078057436,\n        \"num_unique_values\": 700,\n        \"samples\": [\n          1.9482550569489618,\n          2.827521269933685,\n          2.981138225126249\n        ],\n        \"semantic_type\": \"\",\n        \"description\": \"\"\n      }\n    },\n    {\n      \"column\": \"Weights\",\n      \"properties\": {\n        \"dtype\": \"object\",\n        \"semantic_type\": \"\",\n        \"description\": \"\"\n      }\n    },\n    {\n      \"column\": \"Position\",\n      \"properties\": {\n        \"dtype\": \"category\",\n        \"num_unique_values\": 1,\n        \"samples\": [\n          \"No Shorts\"\n        ],\n        \"semantic_type\": \"\",\n        \"description\": \"\"\n      }\n    }\n  ]\n}",
              "type": "dataframe",
              "variable_name": "mc_portfolio_results_df"
            },
            "text/html": [
              "\n",
              "  <div id=\"df-0c9babf2-024f-463e-bd98-8bc3cf441178\" class=\"colab-df-container\">\n",
              "    <div>\n",
              "<style scoped>\n",
              "    .dataframe tbody tr th:only-of-type {\n",
              "        vertical-align: middle;\n",
              "    }\n",
              "\n",
              "    .dataframe tbody tr th {\n",
              "        vertical-align: top;\n",
              "    }\n",
              "\n",
              "    .dataframe thead th {\n",
              "        text-align: right;\n",
              "    }\n",
              "</style>\n",
              "<table border=\"1\" class=\"dataframe\">\n",
              "  <thead>\n",
              "    <tr style=\"text-align: right;\">\n",
              "      <th></th>\n",
              "      <th>0</th>\n",
              "      <th>1</th>\n",
              "      <th>2</th>\n",
              "      <th>3</th>\n",
              "      <th>4</th>\n",
              "    </tr>\n",
              "  </thead>\n",
              "  <tbody>\n",
              "    <tr>\n",
              "      <th>Return</th>\n",
              "      <td>0.075637</td>\n",
              "      <td>0.064405</td>\n",
              "      <td>0.072755</td>\n",
              "      <td>0.067934</td>\n",
              "      <td>0.093425</td>\n",
              "    </tr>\n",
              "    <tr>\n",
              "      <th>Volatility</th>\n",
              "      <td>1.915315</td>\n",
              "      <td>1.594477</td>\n",
              "      <td>1.804933</td>\n",
              "      <td>1.669029</td>\n",
              "      <td>2.766131</td>\n",
              "    </tr>\n",
              "    <tr>\n",
              "      <th>Weights</th>\n",
              "      <td>[0.21319847839100153, 0.33706106229067423, 0.4...</td>\n",
              "      <td>[0.04224700463634449, 0.504240722670449, 0.453...</td>\n",
              "      <td>[0.36805261808488327, 0.37907494257218977, 0.2...</td>\n",
              "      <td>[0.05398829054919137, 0.45190450447662095, 0.4...</td>\n",
              "      <td>[0.518213586475544, 0.07215599653564818, 0.409...</td>\n",
              "    </tr>\n",
              "    <tr>\n",
              "      <th>Position</th>\n",
              "      <td>No Shorts</td>\n",
              "      <td>No Shorts</td>\n",
              "      <td>No Shorts</td>\n",
              "      <td>No Shorts</td>\n",
              "      <td>No Shorts</td>\n",
              "    </tr>\n",
              "  </tbody>\n",
              "</table>\n",
              "</div>\n",
              "    <div class=\"colab-df-buttons\">\n",
              "\n",
              "  <div class=\"colab-df-container\">\n",
              "    <button class=\"colab-df-convert\" onclick=\"convertToInteractive('df-0c9babf2-024f-463e-bd98-8bc3cf441178')\"\n",
              "            title=\"Convert this dataframe to an interactive table.\"\n",
              "            style=\"display:none;\">\n",
              "\n",
              "  <svg xmlns=\"http://www.w3.org/2000/svg\" height=\"24px\" viewBox=\"0 -960 960 960\">\n",
              "    <path d=\"M120-120v-720h720v720H120Zm60-500h600v-160H180v160Zm220 220h160v-160H400v160Zm0 220h160v-160H400v160ZM180-400h160v-160H180v160Zm440 0h160v-160H620v160ZM180-180h160v-160H180v160Zm440 0h160v-160H620v160Z\"/>\n",
              "  </svg>\n",
              "    </button>\n",
              "\n",
              "  <style>\n",
              "    .colab-df-container {\n",
              "      display:flex;\n",
              "      gap: 12px;\n",
              "    }\n",
              "\n",
              "    .colab-df-convert {\n",
              "      background-color: #E8F0FE;\n",
              "      border: none;\n",
              "      border-radius: 50%;\n",
              "      cursor: pointer;\n",
              "      display: none;\n",
              "      fill: #1967D2;\n",
              "      height: 32px;\n",
              "      padding: 0 0 0 0;\n",
              "      width: 32px;\n",
              "    }\n",
              "\n",
              "    .colab-df-convert:hover {\n",
              "      background-color: #E2EBFA;\n",
              "      box-shadow: 0px 1px 2px rgba(60, 64, 67, 0.3), 0px 1px 3px 1px rgba(60, 64, 67, 0.15);\n",
              "      fill: #174EA6;\n",
              "    }\n",
              "\n",
              "    .colab-df-buttons div {\n",
              "      margin-bottom: 4px;\n",
              "    }\n",
              "\n",
              "    [theme=dark] .colab-df-convert {\n",
              "      background-color: #3B4455;\n",
              "      fill: #D2E3FC;\n",
              "    }\n",
              "\n",
              "    [theme=dark] .colab-df-convert:hover {\n",
              "      background-color: #434B5C;\n",
              "      box-shadow: 0px 1px 3px 1px rgba(0, 0, 0, 0.15);\n",
              "      filter: drop-shadow(0px 1px 2px rgba(0, 0, 0, 0.3));\n",
              "      fill: #FFFFFF;\n",
              "    }\n",
              "  </style>\n",
              "\n",
              "    <script>\n",
              "      const buttonEl =\n",
              "        document.querySelector('#df-0c9babf2-024f-463e-bd98-8bc3cf441178 button.colab-df-convert');\n",
              "      buttonEl.style.display =\n",
              "        google.colab.kernel.accessAllowed ? 'block' : 'none';\n",
              "\n",
              "      async function convertToInteractive(key) {\n",
              "        const element = document.querySelector('#df-0c9babf2-024f-463e-bd98-8bc3cf441178');\n",
              "        const dataTable =\n",
              "          await google.colab.kernel.invokeFunction('convertToInteractive',\n",
              "                                                    [key], {});\n",
              "        if (!dataTable) return;\n",
              "\n",
              "        const docLinkHtml = 'Like what you see? Visit the ' +\n",
              "          '<a target=\"_blank\" href=https://colab.research.google.com/notebooks/data_table.ipynb>data table notebook</a>'\n",
              "          + ' to learn more about interactive tables.';\n",
              "        element.innerHTML = '';\n",
              "        dataTable['output_type'] = 'display_data';\n",
              "        await google.colab.output.renderOutput(dataTable, element);\n",
              "        const docLink = document.createElement('div');\n",
              "        docLink.innerHTML = docLinkHtml;\n",
              "        element.appendChild(docLink);\n",
              "      }\n",
              "    </script>\n",
              "  </div>\n",
              "\n",
              "\n",
              "    <div id=\"df-6288d8a2-7a33-415c-a784-1b6c483887ce\">\n",
              "      <button class=\"colab-df-quickchart\" onclick=\"quickchart('df-6288d8a2-7a33-415c-a784-1b6c483887ce')\"\n",
              "                title=\"Suggest charts\"\n",
              "                style=\"display:none;\">\n",
              "\n",
              "<svg xmlns=\"http://www.w3.org/2000/svg\" height=\"24px\"viewBox=\"0 0 24 24\"\n",
              "     width=\"24px\">\n",
              "    <g>\n",
              "        <path d=\"M19 3H5c-1.1 0-2 .9-2 2v14c0 1.1.9 2 2 2h14c1.1 0 2-.9 2-2V5c0-1.1-.9-2-2-2zM9 17H7v-7h2v7zm4 0h-2V7h2v10zm4 0h-2v-4h2v4z\"/>\n",
              "    </g>\n",
              "</svg>\n",
              "      </button>\n",
              "\n",
              "<style>\n",
              "  .colab-df-quickchart {\n",
              "      --bg-color: #E8F0FE;\n",
              "      --fill-color: #1967D2;\n",
              "      --hover-bg-color: #E2EBFA;\n",
              "      --hover-fill-color: #174EA6;\n",
              "      --disabled-fill-color: #AAA;\n",
              "      --disabled-bg-color: #DDD;\n",
              "  }\n",
              "\n",
              "  [theme=dark] .colab-df-quickchart {\n",
              "      --bg-color: #3B4455;\n",
              "      --fill-color: #D2E3FC;\n",
              "      --hover-bg-color: #434B5C;\n",
              "      --hover-fill-color: #FFFFFF;\n",
              "      --disabled-bg-color: #3B4455;\n",
              "      --disabled-fill-color: #666;\n",
              "  }\n",
              "\n",
              "  .colab-df-quickchart {\n",
              "    background-color: var(--bg-color);\n",
              "    border: none;\n",
              "    border-radius: 50%;\n",
              "    cursor: pointer;\n",
              "    display: none;\n",
              "    fill: var(--fill-color);\n",
              "    height: 32px;\n",
              "    padding: 0;\n",
              "    width: 32px;\n",
              "  }\n",
              "\n",
              "  .colab-df-quickchart:hover {\n",
              "    background-color: var(--hover-bg-color);\n",
              "    box-shadow: 0 1px 2px rgba(60, 64, 67, 0.3), 0 1px 3px 1px rgba(60, 64, 67, 0.15);\n",
              "    fill: var(--button-hover-fill-color);\n",
              "  }\n",
              "\n",
              "  .colab-df-quickchart-complete:disabled,\n",
              "  .colab-df-quickchart-complete:disabled:hover {\n",
              "    background-color: var(--disabled-bg-color);\n",
              "    fill: var(--disabled-fill-color);\n",
              "    box-shadow: none;\n",
              "  }\n",
              "\n",
              "  .colab-df-spinner {\n",
              "    border: 2px solid var(--fill-color);\n",
              "    border-color: transparent;\n",
              "    border-bottom-color: var(--fill-color);\n",
              "    animation:\n",
              "      spin 1s steps(1) infinite;\n",
              "  }\n",
              "\n",
              "  @keyframes spin {\n",
              "    0% {\n",
              "      border-color: transparent;\n",
              "      border-bottom-color: var(--fill-color);\n",
              "      border-left-color: var(--fill-color);\n",
              "    }\n",
              "    20% {\n",
              "      border-color: transparent;\n",
              "      border-left-color: var(--fill-color);\n",
              "      border-top-color: var(--fill-color);\n",
              "    }\n",
              "    30% {\n",
              "      border-color: transparent;\n",
              "      border-left-color: var(--fill-color);\n",
              "      border-top-color: var(--fill-color);\n",
              "      border-right-color: var(--fill-color);\n",
              "    }\n",
              "    40% {\n",
              "      border-color: transparent;\n",
              "      border-right-color: var(--fill-color);\n",
              "      border-top-color: var(--fill-color);\n",
              "    }\n",
              "    60% {\n",
              "      border-color: transparent;\n",
              "      border-right-color: var(--fill-color);\n",
              "    }\n",
              "    80% {\n",
              "      border-color: transparent;\n",
              "      border-right-color: var(--fill-color);\n",
              "      border-bottom-color: var(--fill-color);\n",
              "    }\n",
              "    90% {\n",
              "      border-color: transparent;\n",
              "      border-bottom-color: var(--fill-color);\n",
              "    }\n",
              "  }\n",
              "</style>\n",
              "\n",
              "      <script>\n",
              "        async function quickchart(key) {\n",
              "          const quickchartButtonEl =\n",
              "            document.querySelector('#' + key + ' button');\n",
              "          quickchartButtonEl.disabled = true;  // To prevent multiple clicks.\n",
              "          quickchartButtonEl.classList.add('colab-df-spinner');\n",
              "          try {\n",
              "            const charts = await google.colab.kernel.invokeFunction(\n",
              "                'suggestCharts', [key], {});\n",
              "          } catch (error) {\n",
              "            console.error('Error during call to suggestCharts:', error);\n",
              "          }\n",
              "          quickchartButtonEl.classList.remove('colab-df-spinner');\n",
              "          quickchartButtonEl.classList.add('colab-df-quickchart-complete');\n",
              "        }\n",
              "        (() => {\n",
              "          let quickchartButtonEl =\n",
              "            document.querySelector('#df-6288d8a2-7a33-415c-a784-1b6c483887ce button');\n",
              "          quickchartButtonEl.style.display =\n",
              "            google.colab.kernel.accessAllowed ? 'block' : 'none';\n",
              "        })();\n",
              "      </script>\n",
              "    </div>\n",
              "\n",
              "    </div>\n",
              "  </div>\n"
            ],
            "text/plain": [
              "                                                            0  \\\n",
              "Return                                               0.075637   \n",
              "Volatility                                           1.915315   \n",
              "Weights     [0.21319847839100153, 0.33706106229067423, 0.4...   \n",
              "Position                                            No Shorts   \n",
              "\n",
              "                                                            1  \\\n",
              "Return                                               0.064405   \n",
              "Volatility                                           1.594477   \n",
              "Weights     [0.04224700463634449, 0.504240722670449, 0.453...   \n",
              "Position                                            No Shorts   \n",
              "\n",
              "                                                            2  \\\n",
              "Return                                               0.072755   \n",
              "Volatility                                           1.804933   \n",
              "Weights     [0.36805261808488327, 0.37907494257218977, 0.2...   \n",
              "Position                                            No Shorts   \n",
              "\n",
              "                                                            3  \\\n",
              "Return                                               0.067934   \n",
              "Volatility                                           1.669029   \n",
              "Weights     [0.05398829054919137, 0.45190450447662095, 0.4...   \n",
              "Position                                            No Shorts   \n",
              "\n",
              "                                                            4  \n",
              "Return                                               0.093425  \n",
              "Volatility                                           2.766131  \n",
              "Weights     [0.518213586475544, 0.07215599653564818, 0.409...  \n",
              "Position                                            No Shorts  "
            ]
          },
          "execution_count": 154,
          "metadata": {},
          "output_type": "execute_result"
        }
      ],
      "source": [
        "# Calculate portfolio returns and volatility\n",
        "portfolio_returns = []\n",
        "portfolio_volatility = []\n",
        "all_weights = []\n",
        "position_status = [] # To store \"Shorts Allowed\" or \"No Shorts\"\n",
        "\n",
        "num_trading_days = 252 # Number of trading days in a year\n",
        "\n",
        "# Calculate mean daily returns for each asset\n",
        "mean_daily_returns = log_daily_returns.mean()\n",
        "\n",
        "for single_weights in weights:\n",
        "    all_weights.append(single_weights)\n",
        "    # Calculate portfolio return\n",
        "    returns = np.dot(single_weights, mean_daily_returns) * num_trading_days\n",
        "    portfolio_returns.append(returns)\n",
        "\n",
        "    covariance_matrix_np = np.array(cov_matrix)\n",
        "    # Calculate portfolio volatility\n",
        "    volatility = std_deviation(single_weights, cov_matrix) * np.sqrt(num_trading_days)\n",
        "    portfolio_volatility.append(volatility)\n",
        "\n",
        "    position_status.append(\"Shorts Allowed\" if shortsOK else \"No Shorts\")\n",
        "\n",
        "\n",
        "# Create a DataFrame for the portfolio results\n",
        "mc_portfolio_results_df = pd.DataFrame({\n",
        "    'Return': portfolio_returns,\n",
        "    'Volatility': portfolio_volatility,\n",
        "    'Weights': all_weights,\n",
        "    'Position': position_status\n",
        "})\n",
        "\n",
        "\n",
        "print(\"MC Portfolio Results:\")\n",
        "mc_portfolio_results_df.head().T"
      ]
    },
    {
      "cell_type": "code",
      "execution_count": 155,
      "metadata": {
        "colab": {
          "base_uri": "https://localhost:8080/",
          "height": 996
        },
        "id": "2ca2e3ca",
        "outputId": "8c2facb3-af64-407f-bb7e-ea4ba8c3b99f"
      },
      "outputs": [
        {
          "data": {
            "image/png": "[encoded data removed]",
            "text/plain": [
              "<Figure size 1200x800 with 2 Axes>"
            ]
          },
          "metadata": {},
          "output_type": "display_data"
        },
        {
          "name": "stdout",
          "output_type": "stream",
          "text": [
            "\n",
            "Portfolio from mc_portfolio_results_df with Maximum Sharpe Ratio:\n",
            "Return                                                   0.070053\n",
            "Volatility                                               1.715958\n",
            "Weights         [0.5475959746569641, 0.41831041259044366, 0.03...\n",
            "Position                                                No Shorts\n",
            "Sharpe Ratio                                             0.034997\n",
            "Name: 65, dtype: object\n",
            "\n",
            "Portfolio from mc_portfolio_results_df with Minimum Volatility:\n",
            "Return                                                   0.057973\n",
            "Volatility                                               1.532029\n",
            "Weights         [0.36839729041471125, 0.5980888082578771, 0.03...\n",
            "Position                                                No Shorts\n",
            "Sharpe Ratio                                             0.031314\n",
            "Name: 35, dtype: object\n"
          ]
        }
      ],
      "source": [
        "import matplotlib.pyplot as plt\n",
        "import numpy as np\n",
        "\n",
        "# Use (risk_free_rate - 1) for the excess return\n",
        "mc_portfolio_results_df['Sharpe Ratio'] = (mc_portfolio_results_df['Return'] - (risk_free_rate - 1)) / mc_portfolio_results_df['Volatility']\n",
        "\n",
        "# Find the portfolio with the maximum Sharpe Ratio\n",
        "max_sharpe_portfolio_mc = mc_portfolio_results_df.loc[mc_portfolio_results_df['Sharpe Ratio'].idxmax()]\n",
        "\n",
        "# Find the portfolio with the minimum volatility\n",
        "min_volatility_portfolio_mc = mc_portfolio_results_df.loc[mc_portfolio_results_df['Volatility'].idxmin()]\n",
        "\n",
        "# Plot the simulated portfolios\n",
        "plt.figure(figsize=(12, 8))\n",
        "plt.scatter(mc_portfolio_results_df['Volatility'], mc_portfolio_results_df['Return'], c=mc_portfolio_results_df['Sharpe Ratio'], cmap='viridis', marker='o', s=10, alpha=0.5)\n",
        "plt.colorbar(label='Sharpe Ratio')\n",
        "plt.title('Monte Carlo Simulation of Portfolios')\n",
        "plt.xlabel('Volatility (Standard Deviation)')\n",
        "plt.ylabel('Expected Annual Return')\n",
        "plt.grid(True)\n",
        "\n",
        "# Plot the portfolio with the maximum Sharpe Ratio\n",
        "plt.scatter(max_sharpe_portfolio_mc['Volatility'], max_sharpe_portfolio_mc['Return'], color='red', marker='*', s=200, label='Max Sharpe Ratio Portfolio')\n",
        "\n",
        "# Plot the portfolio with the minimum volatility\n",
        "plt.scatter(min_volatility_portfolio_mc['Volatility'], min_volatility_portfolio_mc['Return'], color='blue', marker='*', s=200, label='Min Volatility Portfolio')\n",
        "\n",
        "# Add legend\n",
        "plt.legend()\n",
        "\n",
        "# Show the plot\n",
        "plt.show()\n",
        "\n",
        "print(\"\\nPortfolio from mc_portfolio_results_df with Maximum Sharpe Ratio:\")\n",
        "print(max_sharpe_portfolio_mc)\n",
        "\n",
        "print(\"\\nPortfolio from mc_portfolio_results_df with Minimum Volatility:\")\n",
        "print(min_volatility_portfolio_mc)"
      ]
    },
    {
      "cell_type": "code",
      "execution_count": 157,
      "metadata": {
        "colab": {
          "base_uri": "https://localhost:8080/",
          "height": 659,
          "referenced_widgets": [
            "4f5688e9c2e5474eb6575af93e0e8b2c",
            "7285010d6844424e84042e5d0073bd2f",
            "c3791515f4454368a3d0def1de113bff",
            "817c6b0647c74a83aa549e2629beb199",
            "d8885680277e4facabf08dc31aa30b78",
            "f86414a7f5cf4af4b998c18adfcaa367",
            "cd20d8384bbd4f0e8e5394596b5a668f",
            "c6aba148402a4577b43139a30a1419a9",
            "7777117938b54dbf807cab9eed979e1f",
            "fccb22062d0a4201bc30c6f76cc17b66",
            "4b1727da0e1942b8a9a8f663ae360261"
          ]
        },
        "id": "d7b977d9",
        "outputId": "9e2766a7-079e-4c00-daaf-211083653108"
      },
      "outputs": [
        {
          "name": "stdout",
          "output_type": "stream",
          "text": [
            "Running Backtest for SPY with RSI Strategy:\n"
          ]
        },
        {
          "data": {
            "application/vnd.jupyter.widget-view+json": {
              "model_id": "4f5688e9c2e5474eb6575af93e0e8b2c",
              "version_major": 2,
              "version_minor": 0
            },
            "text/plain": [
              "Backtest.run:   0%|          | 0/5019 [00:00<?, ?bar/s]"
            ]
          },
          "metadata": {},
          "output_type": "display_data"
        },
        {
          "name": "stdout",
          "output_type": "stream",
          "text": [
            "Start                     2005-01-03 05:00:00\n",
            "End                       2024-12-31 05:00:00\n",
            "Duration                   7302 days 00:00:00\n",
            "Exposure Time [%]                    99.12577\n",
            "Equity Final [$]                    587.40893\n",
            "Equity Peak [$]                   10218.24709\n",
            "Commissions [$]                    9279.81247\n",
            "Return [%]                          -94.12591\n",
            "Buy & Hold Return [%]               631.24282\n",
            "Return (Ann.) [%]                   -13.23163\n",
            "Volatility (Ann.) [%]                15.98862\n",
            "CAGR [%]                             -9.31931\n",
            "Sharpe Ratio                         -0.82757\n",
            "Sortino Ratio                        -1.00804\n",
            "Calmar Ratio                         -0.14039\n",
            "Alpha [%]                          -250.68009\n",
            "Beta                                  0.24801\n",
            "Max. Drawdown [%]                   -94.25137\n",
            "Avg. Drawdown [%]                   -24.65563\n",
            "Max. Drawdown Duration     7217 days 00:00:00\n",
            "Avg. Drawdown Duration     1814 days 00:00:00\n",
            "# Trades                                  312\n",
            "Win Rate [%]                         34.29487\n",
            "Best Trade [%]                       15.34191\n",
            "Worst Trade [%]                     -16.77024\n",
            "Avg. Trade [%]                        -1.0139\n",
            "Max. Trade Duration         130 days 00:00:00\n",
            "Avg. Trade Duration          24 days 00:00:00\n",
            "Profit Factor                         0.55438\n",
            "Expectancy [%]                       -0.92521\n",
            "SQN                                  -3.48709\n",
            "Kelly Criterion                      -0.34361\n",
            "_strategy                         RsiStrategy\n",
            "_equity_curve                             ...\n",
            "_trades                        Size  Entry...\n",
            "dtype: object\n"
          ]
        }
      ],
      "source": [
        "from backtesting import Backtest, Strategy\n",
        "from backtesting.lib import crossover\n",
        "\n",
        "# Extract SPY data and prepare for backtesting\n",
        "spy_data = combined_data['SPY'].copy()\n",
        "if not isinstance(spy_data.index, pd.DatetimeIndex):\n",
        "    spy_data.index = pd.to_datetime(spy_data.index)\n",
        "if spy_data.index.tz is not None:\n",
        "    spy_data.index = spy_data.index.tz_convert(None)\n",
        "# Drop rows with NaN values in essential columns for RSI (Close is sufficient)\n",
        "spy_data = spy_data.dropna(subset=['Close', 'Open', 'High', 'Low', 'Volume']) # Ensure all OHLCV needed by Backtest are present\n",
        "\n",
        "\n",
        "# Define the RSI Trading Strategy\n",
        "class RsiStrategy(Strategy):\n",
        "    # Define strategy parameters\n",
        "    rsi_period = 14 # Common RSI period\n",
        "    oversold_threshold = 30\n",
        "    overbought_threshold = 70\n",
        "\n",
        "    def init(self):\n",
        "        close_prices = self.data.Close\n",
        "        delta = pd.Series(close_prices).diff() # Calculate price changes\n",
        "        gain = delta.where(delta > 0, 0) # Separate gains and losses\n",
        "        loss = -delta.where(delta < 0, 0)\n",
        "\n",
        "        # Calculate average gain and average loss using rolling window\n",
        "        avg_gain = gain.rolling(self.rsi_period).mean()\n",
        "        avg_loss = loss.rolling(self.rsi_period).mean()\n",
        "\n",
        "        # Calculate Relative Strength (RS)\n",
        "        # Avoid division by zero by handling the case where avg_loss is 0\n",
        "        rs = avg_gain / avg_loss.replace(0, np.nan) # Replace 0 with NaN to avoid division by zero warnings\n",
        "\n",
        "        # Calculate RSI\n",
        "        rsi = 100 - (100 / (1 + rs))\n",
        "\n",
        "        # Register the RSI as an indicator using self.I()\n",
        "        self.rsi = self.I(pd.Series, rsi)\n",
        "\n",
        "\n",
        "    def next(self):\n",
        "        # Implement trading logic based on RSI signals\n",
        "\n",
        "        # Buy signal: RSI crosses below oversold threshold and then crosses back above\n",
        "        # Check if RSI is currently above the oversold threshold AND was below it in the previous period\n",
        "        if crossover(self.rsi, self.oversold_threshold):\n",
        "             # Close any existing short position and buy\n",
        "             self.position.close()\n",
        "             self.buy()\n",
        "\n",
        "        # Sell signal: RSI crosses above overbought threshold and then crosses back below\n",
        "        # Check if RSI is currently below the overbought threshold AND was above it in the previous period\n",
        "        elif crossover(self.overbought_threshold, self.rsi):\n",
        "             # Close any existing long position and sell (go short)\n",
        "             self.position.close()\n",
        "             self.sell()\n",
        "\n",
        "\n",
        "# Set up and run the backtest for SPY with the RsiStrategy\n",
        "print(\"Running Backtest for SPY with RSI Strategy:\")\n",
        "bt_rsi_spy = Backtest(spy_data, RsiStrategy,\n",
        "                      cash=10000, commission=.005,\n",
        "                      exclusive_orders=True) # exclusive_orders=True to ensure only one position at a time\n",
        "\n",
        "# Run the backtest\n",
        "output_rsi_spy = bt_rsi_spy.run()\n",
        "\n",
        "# Print the backtest results\n",
        "print(output_rsi_spy)\n",
        "\n",
        "# Plot the backtest results\n",
        "#bt_rsi_spy.plot()"
      ]
    }
  ],
  "metadata": {
    "colab": {
      "provenance": []
    },
    "kernelspec": {
      "display_name": "Python 3",
      "name": "python3"
    },
    "language_info": {
      "name": "python"
    },
    "widgets": {
      "application/vnd.jupyter.widget-state+json": {
        "4b1727da0e1942b8a9a8f663ae360261": {
          "model_module": "@jupyter-widgets/controls",
          "model_module_version": "1.5.0",
          "model_name": "DescriptionStyleModel",
          "state": {
            "_model_module": "@jupyter-widgets/controls",
            "_model_module_version": "1.5.0",
            "_model_name": "DescriptionStyleModel",
            "_view_count": null,
            "_view_module": "@jupyter-widgets/base",
            "_view_module_version": "1.2.0",
            "_view_name": "StyleView",
            "description_width": ""
          }
        },
        "4f5688e9c2e5474eb6575af93e0e8b2c": {
          "model_module": "@jupyter-widgets/controls",
          "model_module_version": "1.5.0",
          "model_name": "HBoxModel",
          "state": {
            "_dom_classes": [],
            "_model_module": "@jupyter-widgets/controls",
            "_model_module_version": "1.5.0",
            "_model_name": "HBoxModel",
            "_view_count": null,
            "_view_module": "@jupyter-widgets/controls",
            "_view_module_version": "1.5.0",
            "_view_name": "HBoxView",
            "box_style": "",
            "children": [
              "IPY_MODEL_7285010d6844424e84042e5d0073bd2f",
              "IPY_MODEL_c3791515f4454368a3d0def1de113bff",
              "IPY_MODEL_817c6b0647c74a83aa549e2629beb199"
            ],
            "layout": "IPY_MODEL_d8885680277e4facabf08dc31aa30b78"
          }
        },
        "7285010d6844424e84042e5d0073bd2f": {
          "model_module": "@jupyter-widgets/controls",
          "model_module_version": "1.5.0",
          "model_name": "HTMLModel",
          "state": {
            "_dom_classes": [],
            "_model_module": "@jupyter-widgets/controls",
            "_model_module_version": "1.5.0",
            "_model_name": "HTMLModel",
            "_view_count": null,
            "_view_module": "@jupyter-widgets/controls",
            "_view_module_version": "1.5.0",
            "_view_name": "HTMLView",
            "description": "",
            "description_tooltip": null,
            "layout": "IPY_MODEL_f86414a7f5cf4af4b998c18adfcaa367",
            "placeholder": "​",
            "style": "IPY_MODEL_cd20d8384bbd4f0e8e5394596b5a668f",
            "value": "Backtest.run:   0%"
          }
        },
        "7777117938b54dbf807cab9eed979e1f": {
          "model_module": "@jupyter-widgets/controls",
          "model_module_version": "1.5.0",
          "model_name": "ProgressStyleModel",
          "state": {
            "_model_module": "@jupyter-widgets/controls",
            "_model_module_version": "1.5.0",
            "_model_name": "ProgressStyleModel",
            "_view_count": null,
            "_view_module": "@jupyter-widgets/base",
            "_view_module_version": "1.2.0",
            "_view_name": "StyleView",
            "bar_color": null,
            "description_width": ""
          }
        },
        "817c6b0647c74a83aa549e2629beb199": {
          "model_module": "@jupyter-widgets/controls",
          "model_module_version": "1.5.0",
          "model_name": "HTMLModel",
          "state": {
            "_dom_classes": [],
            "_model_module": "@jupyter-widgets/controls",
            "_model_module_version": "1.5.0",
            "_model_name": "HTMLModel",
            "_view_count": null,
            "_view_module": "@jupyter-widgets/controls",
            "_view_module_version": "1.5.0",
            "_view_name": "HTMLView",
            "description": "",
            "description_tooltip": null,
            "layout": "IPY_MODEL_fccb22062d0a4201bc30c6f76cc17b66",
            "placeholder": "​",
            "style": "IPY_MODEL_4b1727da0e1942b8a9a8f663ae360261",
            "value": " 0/5019 [00:00&lt;?, ?bar/s]"
          }
        },
        "c3791515f4454368a3d0def1de113bff": {
          "model_module": "@jupyter-widgets/controls",
          "model_module_version": "1.5.0",
          "model_name": "FloatProgressModel",
          "state": {
            "_dom_classes": [],
            "_model_module": "@jupyter-widgets/controls",
            "_model_module_version": "1.5.0",
            "_model_name": "FloatProgressModel",
            "_view_count": null,
            "_view_module": "@jupyter-widgets/controls",
            "_view_module_version": "1.5.0",
            "_view_name": "ProgressView",
            "bar_style": "",
            "description": "",
            "description_tooltip": null,
            "layout": "IPY_MODEL_c6aba148402a4577b43139a30a1419a9",
            "max": 5019,
            "min": 0,
            "orientation": "horizontal",
            "style": "IPY_MODEL_7777117938b54dbf807cab9eed979e1f",
            "value": 5019
          }
        },
        "c6aba148402a4577b43139a30a1419a9": {
          "model_module": "@jupyter-widgets/base",
          "model_module_version": "1.2.0",
          "model_name": "LayoutModel",
          "state": {
            "_model_module": "@jupyter-widgets/base",
            "_model_module_version": "1.2.0",
            "_model_name": "LayoutModel",
            "_view_count": null,
            "_view_module": "@jupyter-widgets/base",
            "_view_module_version": "1.2.0",
            "_view_name": "LayoutView",
            "align_content": null,
            "align_items": null,
            "align_self": null,
            "border": null,
            "bottom": null,
            "display": null,
            "flex": null,
            "flex_flow": null,
            "grid_area": null,
            "grid_auto_columns": null,
            "grid_auto_flow": null,
            "grid_auto_rows": null,
            "grid_column": null,
            "grid_gap": null,
            "grid_row": null,
            "grid_template_areas": null,
            "grid_template_columns": null,
            "grid_template_rows": null,
            "height": null,
            "justify_content": null,
            "justify_items": null,
            "left": null,
            "margin": null,
            "max_height": null,
            "max_width": null,
            "min_height": null,
            "min_width": null,
            "object_fit": null,
            "object_position": null,
            "order": null,
            "overflow": null,
            "overflow_x": null,
            "overflow_y": null,
            "padding": null,
            "right": null,
            "top": null,
            "visibility": null,
            "width": null
          }
        },
        "cd20d8384bbd4f0e8e5394596b5a668f": {
          "model_module": "@jupyter-widgets/controls",
          "model_module_version": "1.5.0",
          "model_name": "DescriptionStyleModel",
          "state": {
            "_model_module": "@jupyter-widgets/controls",
            "_model_module_version": "1.5.0",
            "_model_name": "DescriptionStyleModel",
            "_view_count": null,
            "_view_module": "@jupyter-widgets/base",
            "_view_module_version": "1.2.0",
            "_view_name": "StyleView",
            "description_width": ""
          }
        },
        "d8885680277e4facabf08dc31aa30b78": {
          "model_module": "@jupyter-widgets/base",
          "model_module_version": "1.2.0",
          "model_name": "LayoutModel",
          "state": {
            "_model_module": "@jupyter-widgets/base",
            "_model_module_version": "1.2.0",
            "_model_name": "LayoutModel",
            "_view_count": null,
            "_view_module": "@jupyter-widgets/base",
            "_view_module_version": "1.2.0",
            "_view_name": "LayoutView",
            "align_content": null,
            "align_items": null,
            "align_self": null,
            "border": null,
            "bottom": null,
            "display": null,
            "flex": null,
            "flex_flow": null,
            "grid_area": null,
            "grid_auto_columns": null,
            "grid_auto_flow": null,
            "grid_auto_rows": null,
            "grid_column": null,
            "grid_gap": null,
            "grid_row": null,
            "grid_template_areas": null,
            "grid_template_columns": null,
            "grid_template_rows": null,
            "height": null,
            "justify_content": null,
            "justify_items": null,
            "left": null,
            "margin": null,
            "max_height": null,
            "max_width": null,
            "min_height": null,
            "min_width": null,
            "object_fit": null,
            "object_position": null,
            "order": null,
            "overflow": null,
            "overflow_x": null,
            "overflow_y": null,
            "padding": null,
            "right": null,
            "top": null,
            "visibility": "hidden",
            "width": null
          }
        },
        "f86414a7f5cf4af4b998c18adfcaa367": {
          "model_module": "@jupyter-widgets/base",
          "model_module_version": "1.2.0",
          "model_name": "LayoutModel",
          "state": {
            "_model_module": "@jupyter-widgets/base",
            "_model_module_version": "1.2.0",
            "_model_name": "LayoutModel",
            "_view_count": null,
            "_view_module": "@jupyter-widgets/base",
            "_view_module_version": "1.2.0",
            "_view_name": "LayoutView",
            "align_content": null,
            "align_items": null,
            "align_self": null,
            "border": null,
            "bottom": null,
            "display": null,
            "flex": null,
            "flex_flow": null,
            "grid_area": null,
            "grid_auto_columns": null,
            "grid_auto_flow": null,
            "grid_auto_rows": null,
            "grid_column": null,
            "grid_gap": null,
            "grid_row": null,
            "grid_template_areas": null,
            "grid_template_columns": null,
            "grid_template_rows": null,
            "height": null,
            "justify_content": null,
            "justify_items": null,
            "left": null,
            "margin": null,
            "max_height": null,
            "max_width": null,
            "min_height": null,
            "min_width": null,
            "object_fit": null,
            "object_position": null,
            "order": null,
            "overflow": null,
            "overflow_x": null,
            "overflow_y": null,
            "padding": null,
            "right": null,
            "top": null,
            "visibility": null,
            "width": null
          }
        },
        "fccb22062d0a4201bc30c6f76cc17b66": {
          "model_module": "@jupyter-widgets/base",
          "model_module_version": "1.2.0",
          "model_name": "LayoutModel",
          "state": {
            "_model_module": "@jupyter-widgets/base",
            "_model_module_version": "1.2.0",
            "_model_name": "LayoutModel",
            "_view_count": null,
            "_view_module": "@jupyter-widgets/base",
            "_view_module_version": "1.2.0",
            "_view_name": "LayoutView",
            "align_content": null,
            "align_items": null,
            "align_self": null,
            "border": null,
            "bottom": null,
            "display": null,
            "flex": null,
            "flex_flow": null,
            "grid_area": null,
            "grid_auto_columns": null,
            "grid_auto_flow": null,
            "grid_auto_rows": null,
            "grid_column": null,
            "grid_gap": null,
            "grid_row": null,
            "grid_template_areas": null,
            "grid_template_columns": null,
            "grid_template_rows": null,
            "height": null,
            "justify_content": null,
            "justify_items": null,
            "left": null,
            "margin": null,
            "max_height": null,
            "max_width": null,
            "min_height": null,
            "min_width": null,
            "object_fit": null,
            "object_position": null,
            "order": null,
            "overflow": null,
            "overflow_x": null,
            "overflow_y": null,
            "padding": null,
            "right": null,
            "top": null,
            "visibility": null,
            "width": null
          }
        }
      }
    }
  },
  "nbformat": 4,
  "nbformat_minor": 0
}
